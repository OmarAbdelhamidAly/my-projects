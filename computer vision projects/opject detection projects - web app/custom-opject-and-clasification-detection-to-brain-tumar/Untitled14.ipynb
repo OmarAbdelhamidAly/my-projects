{
  "nbformat": 4,
  "nbformat_minor": 0,
  "metadata": {
    "colab": {
      "private_outputs": true,
      "provenance": []
    },
    "kernelspec": {
      "name": "python3",
      "display_name": "Python 3"
    },
    "language_info": {
      "name": "python"
    },
    "accelerator": "GPU",
    "gpuClass": "standard"
  },
  "cells": [
    {
      "cell_type": "code",
      "execution_count": null,
      "metadata": {
        "id": "ZtakSMNefMaH"
      },
      "outputs": [],
      "source": [
        "from google.colab import drive\n",
        "drive.mount('/content/drive')\n",
        "!pip install -r /content/drive/MyDrive/yolov7_custom/requirements.txt\n",
        "!pip install -r /content/drive/MyDrive/yolov7_custom/requirements_gbu.txt"
      ]
    },
    {
      "cell_type": "code",
      "source": [
        "\n",
        "%cd /content/drive/MyDrive/yolov7_custom/yolov7-custom/\n",
        "!python train.py --workers 1 --device 0 --batch-size 4 --epochs 100 --img 640 640 --hyp /content/drive/MyDrive/yolov7_custom/yolov7-custom/data/hyp.scratch.custom.yaml --name omar_frist_exp --weights yolov7.pt"
      ],
      "metadata": {
        "id": "WNNFgdUqhD3u"
      },
      "execution_count": null,
      "outputs": []
    }
  ]
}